{
  "nbformat": 4,
  "nbformat_minor": 0,
  "metadata": {
    "orig_nbformat": 4,
    "language_info": {
      "name": "python",
      "version": "3.8.2",
      "mimetype": "text/x-python",
      "codemirror_mode": {
        "name": "ipython",
        "version": 3
      },
      "pygments_lexer": "ipython3",
      "nbconvert_exporter": "python",
      "file_extension": ".py"
    },
    "kernelspec": {
      "name": "python3",
      "display_name": "Python 3.8.2 64-bit"
    },
    "interpreter": {
      "hash": "fd88d7af6e94c6929b65b5dc552f91130e2e10e9038db61f82cd7f9c6aff4407"
    },
    "colab": {
      "name": "Checkpoint_5.ipynb",
      "provenance": [],
      "include_colab_link": true
    }
  },
  "cells": [
    {
      "cell_type": "markdown",
      "metadata": {
        "id": "view-in-github",
        "colab_type": "text"
      },
      "source": [
        "<a href=\"https://colab.research.google.com/github/Ghiles1010/checkpoints/blob/main/Checkpoint_5.ipynb\" target=\"_parent\"><img src=\"https://colab.research.google.com/assets/colab-badge.svg\" alt=\"Open In Colab\"/></a>"
      ]
    },
    {
      "cell_type": "code",
      "metadata": {
        "id": "I8OP6be93fWA"
      },
      "source": [
        "import pandas as pd"
      ],
      "execution_count": 14,
      "outputs": []
    },
    {
      "cell_type": "code",
      "metadata": {
        "id": "Ln5Qou3w3fWG"
      },
      "source": [
        "df = pd.read_csv(\"iris.data.txt\", header = None)\n",
        "df.columns =  [\"sep_len\", \"sep_wid\", \"pet_len\", \"pet_wid\", \"category\"]"
      ],
      "execution_count": 15,
      "outputs": []
    },
    {
      "cell_type": "code",
      "metadata": {
        "colab": {
          "base_uri": "https://localhost:8080/",
          "height": 204
        },
        "id": "v8AyU-1H3fWH",
        "outputId": "d1927d0c-6270-4500-e990-4b9727f0a7f7"
      },
      "source": [
        "df.head()"
      ],
      "execution_count": 16,
      "outputs": [
        {
          "output_type": "execute_result",
          "data": {
            "text/html": [
              "<div>\n",
              "<style scoped>\n",
              "    .dataframe tbody tr th:only-of-type {\n",
              "        vertical-align: middle;\n",
              "    }\n",
              "\n",
              "    .dataframe tbody tr th {\n",
              "        vertical-align: top;\n",
              "    }\n",
              "\n",
              "    .dataframe thead th {\n",
              "        text-align: right;\n",
              "    }\n",
              "</style>\n",
              "<table border=\"1\" class=\"dataframe\">\n",
              "  <thead>\n",
              "    <tr style=\"text-align: right;\">\n",
              "      <th></th>\n",
              "      <th>sep_len</th>\n",
              "      <th>sep_wid</th>\n",
              "      <th>pet_len</th>\n",
              "      <th>pet_wid</th>\n",
              "      <th>category</th>\n",
              "    </tr>\n",
              "  </thead>\n",
              "  <tbody>\n",
              "    <tr>\n",
              "      <th>0</th>\n",
              "      <td>5.1</td>\n",
              "      <td>3.5</td>\n",
              "      <td>1.4</td>\n",
              "      <td>0.2</td>\n",
              "      <td>Iris-setosa</td>\n",
              "    </tr>\n",
              "    <tr>\n",
              "      <th>1</th>\n",
              "      <td>4.9</td>\n",
              "      <td>3.0</td>\n",
              "      <td>1.4</td>\n",
              "      <td>0.2</td>\n",
              "      <td>Iris-setosa</td>\n",
              "    </tr>\n",
              "    <tr>\n",
              "      <th>2</th>\n",
              "      <td>4.7</td>\n",
              "      <td>3.2</td>\n",
              "      <td>1.3</td>\n",
              "      <td>0.2</td>\n",
              "      <td>Iris-setosa</td>\n",
              "    </tr>\n",
              "    <tr>\n",
              "      <th>3</th>\n",
              "      <td>4.6</td>\n",
              "      <td>3.1</td>\n",
              "      <td>1.5</td>\n",
              "      <td>0.2</td>\n",
              "      <td>Iris-setosa</td>\n",
              "    </tr>\n",
              "    <tr>\n",
              "      <th>4</th>\n",
              "      <td>5.0</td>\n",
              "      <td>3.6</td>\n",
              "      <td>1.4</td>\n",
              "      <td>0.2</td>\n",
              "      <td>Iris-setosa</td>\n",
              "    </tr>\n",
              "  </tbody>\n",
              "</table>\n",
              "</div>"
            ],
            "text/plain": [
              "   sep_len  sep_wid  pet_len  pet_wid     category\n",
              "0      5.1      3.5      1.4      0.2  Iris-setosa\n",
              "1      4.9      3.0      1.4      0.2  Iris-setosa\n",
              "2      4.7      3.2      1.3      0.2  Iris-setosa\n",
              "3      4.6      3.1      1.5      0.2  Iris-setosa\n",
              "4      5.0      3.6      1.4      0.2  Iris-setosa"
            ]
          },
          "metadata": {
            "tags": []
          },
          "execution_count": 16
        }
      ]
    },
    {
      "cell_type": "markdown",
      "metadata": {
        "id": "-VbLWuNZ4qYH"
      },
      "source": [
        "# Data preprocessing"
      ]
    },
    {
      "cell_type": "markdown",
      "metadata": {
        "id": "PZle_aub3fWJ"
      },
      "source": [
        "Encoding categories"
      ]
    },
    {
      "cell_type": "code",
      "metadata": {
        "id": "jF9mogIn3fWJ"
      },
      "source": [
        "from sklearn.preprocessing import LabelEncoder\n",
        "le = LabelEncoder()\n",
        "\n",
        "df[\"category\"] = le.fit_transform(df[\"category\"])"
      ],
      "execution_count": 17,
      "outputs": []
    },
    {
      "cell_type": "code",
      "metadata": {
        "colab": {
          "base_uri": "https://localhost:8080/",
          "height": 204
        },
        "id": "-v5lQr7K3fWK",
        "outputId": "bbefa7ff-467b-4090-e45f-34c29b8c4b52"
      },
      "source": [
        "df.head()"
      ],
      "execution_count": 18,
      "outputs": [
        {
          "output_type": "execute_result",
          "data": {
            "text/html": [
              "<div>\n",
              "<style scoped>\n",
              "    .dataframe tbody tr th:only-of-type {\n",
              "        vertical-align: middle;\n",
              "    }\n",
              "\n",
              "    .dataframe tbody tr th {\n",
              "        vertical-align: top;\n",
              "    }\n",
              "\n",
              "    .dataframe thead th {\n",
              "        text-align: right;\n",
              "    }\n",
              "</style>\n",
              "<table border=\"1\" class=\"dataframe\">\n",
              "  <thead>\n",
              "    <tr style=\"text-align: right;\">\n",
              "      <th></th>\n",
              "      <th>sep_len</th>\n",
              "      <th>sep_wid</th>\n",
              "      <th>pet_len</th>\n",
              "      <th>pet_wid</th>\n",
              "      <th>category</th>\n",
              "    </tr>\n",
              "  </thead>\n",
              "  <tbody>\n",
              "    <tr>\n",
              "      <th>0</th>\n",
              "      <td>5.1</td>\n",
              "      <td>3.5</td>\n",
              "      <td>1.4</td>\n",
              "      <td>0.2</td>\n",
              "      <td>0</td>\n",
              "    </tr>\n",
              "    <tr>\n",
              "      <th>1</th>\n",
              "      <td>4.9</td>\n",
              "      <td>3.0</td>\n",
              "      <td>1.4</td>\n",
              "      <td>0.2</td>\n",
              "      <td>0</td>\n",
              "    </tr>\n",
              "    <tr>\n",
              "      <th>2</th>\n",
              "      <td>4.7</td>\n",
              "      <td>3.2</td>\n",
              "      <td>1.3</td>\n",
              "      <td>0.2</td>\n",
              "      <td>0</td>\n",
              "    </tr>\n",
              "    <tr>\n",
              "      <th>3</th>\n",
              "      <td>4.6</td>\n",
              "      <td>3.1</td>\n",
              "      <td>1.5</td>\n",
              "      <td>0.2</td>\n",
              "      <td>0</td>\n",
              "    </tr>\n",
              "    <tr>\n",
              "      <th>4</th>\n",
              "      <td>5.0</td>\n",
              "      <td>3.6</td>\n",
              "      <td>1.4</td>\n",
              "      <td>0.2</td>\n",
              "      <td>0</td>\n",
              "    </tr>\n",
              "  </tbody>\n",
              "</table>\n",
              "</div>"
            ],
            "text/plain": [
              "   sep_len  sep_wid  pet_len  pet_wid  category\n",
              "0      5.1      3.5      1.4      0.2         0\n",
              "1      4.9      3.0      1.4      0.2         0\n",
              "2      4.7      3.2      1.3      0.2         0\n",
              "3      4.6      3.1      1.5      0.2         0\n",
              "4      5.0      3.6      1.4      0.2         0"
            ]
          },
          "metadata": {
            "tags": []
          },
          "execution_count": 18
        }
      ]
    },
    {
      "cell_type": "markdown",
      "metadata": {
        "id": "6kBkvYxN3fWK"
      },
      "source": [
        "Encoding the rest of the features"
      ]
    },
    {
      "cell_type": "code",
      "metadata": {
        "id": "mXgCeAAz3fWL"
      },
      "source": [
        "features = df.columns.difference([\"category\"])\n",
        "\n",
        "for column in features:\n",
        "    mu = df[column].mean()\n",
        "    sigma = df[column].std()\n",
        "\n",
        "    df[column] = (df[column] - mu)/sigma"
      ],
      "execution_count": 19,
      "outputs": []
    },
    {
      "cell_type": "code",
      "metadata": {
        "colab": {
          "base_uri": "https://localhost:8080/",
          "height": 204
        },
        "id": "TSRvO6jL3fWL",
        "outputId": "e87ace3f-2c08-4d54-d1f5-ae21e8f76155"
      },
      "source": [
        "df.head()"
      ],
      "execution_count": 20,
      "outputs": [
        {
          "output_type": "execute_result",
          "data": {
            "text/html": [
              "<div>\n",
              "<style scoped>\n",
              "    .dataframe tbody tr th:only-of-type {\n",
              "        vertical-align: middle;\n",
              "    }\n",
              "\n",
              "    .dataframe tbody tr th {\n",
              "        vertical-align: top;\n",
              "    }\n",
              "\n",
              "    .dataframe thead th {\n",
              "        text-align: right;\n",
              "    }\n",
              "</style>\n",
              "<table border=\"1\" class=\"dataframe\">\n",
              "  <thead>\n",
              "    <tr style=\"text-align: right;\">\n",
              "      <th></th>\n",
              "      <th>sep_len</th>\n",
              "      <th>sep_wid</th>\n",
              "      <th>pet_len</th>\n",
              "      <th>pet_wid</th>\n",
              "      <th>category</th>\n",
              "    </tr>\n",
              "  </thead>\n",
              "  <tbody>\n",
              "    <tr>\n",
              "      <th>0</th>\n",
              "      <td>-0.897674</td>\n",
              "      <td>1.028611</td>\n",
              "      <td>-1.336794</td>\n",
              "      <td>-1.308593</td>\n",
              "      <td>0</td>\n",
              "    </tr>\n",
              "    <tr>\n",
              "      <th>1</th>\n",
              "      <td>-1.139200</td>\n",
              "      <td>-0.124540</td>\n",
              "      <td>-1.336794</td>\n",
              "      <td>-1.308593</td>\n",
              "      <td>0</td>\n",
              "    </tr>\n",
              "    <tr>\n",
              "      <th>2</th>\n",
              "      <td>-1.380727</td>\n",
              "      <td>0.336720</td>\n",
              "      <td>-1.393470</td>\n",
              "      <td>-1.308593</td>\n",
              "      <td>0</td>\n",
              "    </tr>\n",
              "    <tr>\n",
              "      <th>3</th>\n",
              "      <td>-1.501490</td>\n",
              "      <td>0.106090</td>\n",
              "      <td>-1.280118</td>\n",
              "      <td>-1.308593</td>\n",
              "      <td>0</td>\n",
              "    </tr>\n",
              "    <tr>\n",
              "      <th>4</th>\n",
              "      <td>-1.018437</td>\n",
              "      <td>1.259242</td>\n",
              "      <td>-1.336794</td>\n",
              "      <td>-1.308593</td>\n",
              "      <td>0</td>\n",
              "    </tr>\n",
              "  </tbody>\n",
              "</table>\n",
              "</div>"
            ],
            "text/plain": [
              "    sep_len   sep_wid   pet_len   pet_wid  category\n",
              "0 -0.897674  1.028611 -1.336794 -1.308593         0\n",
              "1 -1.139200 -0.124540 -1.336794 -1.308593         0\n",
              "2 -1.380727  0.336720 -1.393470 -1.308593         0\n",
              "3 -1.501490  0.106090 -1.280118 -1.308593         0\n",
              "4 -1.018437  1.259242 -1.336794 -1.308593         0"
            ]
          },
          "metadata": {
            "tags": []
          },
          "execution_count": 20
        }
      ]
    },
    {
      "cell_type": "code",
      "metadata": {
        "id": "HSa28d603fWL"
      },
      "source": [
        "from sklearn.model_selection import train_test_split\n",
        "\n",
        "# features extraction\n",
        "y = df['category']\n",
        "x = df.drop(['category'], axis = 1)\n",
        "\n",
        "\n",
        "x_train, x_test, y_train, y_test = train_test_split(x,y,test_size=0.2, random_state=0)  "
      ],
      "execution_count": 21,
      "outputs": []
    },
    {
      "cell_type": "markdown",
      "metadata": {
        "id": "1snPROyG4liw"
      },
      "source": [
        "# KNN class"
      ]
    },
    {
      "cell_type": "code",
      "metadata": {
        "id": "ibVwSNo93fWM"
      },
      "source": [
        "class Knn:\n",
        "\n",
        "  def __init__(self, k, distance_metric = \"euclidian\"):\n",
        "    self.__verifications(k, distance_metric)\n",
        "    self.k = k\n",
        "    self.distance_metric = distance_metric\n",
        "\n",
        "  \n",
        "  def __verifications(self, k, distance_metric):\n",
        "    \"\"\" Do some coherence verrifications \"\"\"\n",
        "    if k == 0 : ValueError(\"K can not be null\")\n",
        "    if distance_metric not in [\"euclidian\", \"manhattan\"] : ValueError(\"Distance metric is invalid\")\n",
        "\n",
        "  \n",
        "  def fit(self, x_train, y_train):\n",
        "    \"\"\" Define the training data \"\"\"\n",
        "    self.x_train = x_train\n",
        "    self.y_train = y_train\n",
        "\n",
        "\n",
        "  def predict(self, X):\n",
        "    \"\"\" predict \"\"\"\n",
        "    if self.k > len(X):\n",
        "        raise ValueError(\"K is greater than number of instances\")\n",
        "\n",
        "    predictions = []\n",
        "    \n",
        "    for i in range(len(X)):\n",
        "        neighbors = self.__getNeighbors(self.x_train, self.y_train, X.iloc[i], self.k)\n",
        "        result = self.__getResponse(neighbors)\n",
        "        predictions.append(result)\n",
        "\n",
        "    return predictions\n",
        "\n",
        "  \n",
        "  \n",
        "\n",
        "\n",
        "  def __Distance(self, instance1, instance2):\n",
        "\n",
        "    \"\"\" calculate distance  \"\"\"\n",
        "\n",
        "    from scipy.spatial import distance\n",
        "    # the length is always N - 1\n",
        "    length = df.iloc[0].size - 1\n",
        "    \n",
        "    # ignoring last feature\n",
        "    instance1 = instance1[:length]\n",
        "    instance2 = instance2[:length]\n",
        "\n",
        "    if self.distance_metric == \"euclidian\":\n",
        "        return distance.euclidean(instance1, instance2)\n",
        "    elif self.distance_metric == \"manhattan\":\n",
        "        return distance.cityblock(instance1, instance2)\n",
        "    else :\n",
        "        raise ValueError(\"Invalid distance metric\")\n",
        "\n",
        "  def __getNeighbors(self, x_train, y_train, inst, k):\n",
        "\n",
        "    \"\"\" get k nearest neighbours with their categories  \"\"\"\n",
        "\n",
        "    k_nearest = {}\n",
        "\n",
        "    for idx in range(len(x_train)):\n",
        "\n",
        "        row = x_train.iloc[idx]\n",
        "        dist = self.__Distance(inst, row)\n",
        "\n",
        "        if len(k_nearest) < k:\n",
        "            k_nearest[dist] = y_train.iloc[idx]\n",
        "\n",
        "        elif dist < max(k_nearest.keys()):\n",
        "            del k_nearest[max(k_nearest.keys())]\n",
        "            k_nearest[dist] = y_train.iloc[idx]\n",
        "\n",
        "    return k_nearest\n",
        "\n",
        "\n",
        "  def __getResponse(self, neighbors):\n",
        "\n",
        "    \"\"\" what is the max vote  \"\"\"\n",
        "\n",
        "    classVotes = {}\n",
        "\n",
        "    for i in neighbors:\n",
        "        vote = neighbors[i]\n",
        "        classVotes[vote] = classVotes.get(vote, 0) + 1\n",
        "\n",
        "    return max(classVotes, key = lambda x: classVotes[x])\n",
        "\n",
        "  \n",
        "  def getAccuracy(self, predictions, y_test):\n",
        "\n",
        "    correct = 0\n",
        "    for i in range(len(y_test)):\n",
        "        if y_test.iloc[i] == predictions[i]:\n",
        "            correct += 1\n",
        "    return (correct/float(len(y_test))) * 100.0\n",
        "\n",
        "    \n"
      ],
      "execution_count": 22,
      "outputs": []
    },
    {
      "cell_type": "markdown",
      "metadata": {
        "id": "CX3VJRuS4iIh"
      },
      "source": [
        "# Main"
      ]
    },
    {
      "cell_type": "code",
      "metadata": {
        "colab": {
          "base_uri": "https://localhost:8080/"
        },
        "id": "HK_gwklW3fWN",
        "outputId": "0bb032b7-fe39-47d4-9b45-6393d8c0e4b7"
      },
      "source": [
        "max_acc = 0\n",
        "\n",
        "# k had better to be odd\n",
        "for k in range(1, 6, 2):\n",
        "\n",
        "    print(k)\n",
        "    k_c = Knn(k = k, distance_metric = \"manhattan\")\n",
        "    k_c.fit(x_train, y_train)\n",
        "    predictions = k_c.predict(x_test)\n",
        "    acc = k_c.getAccuracy(predictions, y_test)\n",
        "\n",
        "    if acc > max_acc:\n",
        "        max_acc = acc\n",
        "        best_k = k\n",
        "\n",
        "\n",
        "print(\"Best result : \")\n",
        "print(\"\\t k =\", best_k)\n",
        "print(\"\\t accuracy =\", max_acc)"
      ],
      "execution_count": 23,
      "outputs": [
        {
          "output_type": "stream",
          "text": [
            "1\n",
            "3\n",
            "5\n",
            "Best result : \n",
            "\t k = 5\n",
            "\t accuracy = 100.0\n"
          ],
          "name": "stdout"
        }
      ]
    }
  ]
}