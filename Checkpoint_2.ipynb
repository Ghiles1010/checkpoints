{
  "nbformat": 4,
  "nbformat_minor": 0,
  "metadata": {
    "interpreter": {
      "hash": "7aa18cbd2d4a91fd198815cfae8c7e9053cf007270f10dc91a8ff32a02a84500"
    },
    "kernelspec": {
      "display_name": "Python 3.8.5 64-bit ('base': conda)",
      "name": "python3"
    },
    "language_info": {
      "codemirror_mode": {
        "name": "ipython",
        "version": 3
      },
      "file_extension": ".py",
      "mimetype": "text/x-python",
      "name": "python",
      "nbconvert_exporter": "python",
      "pygments_lexer": "ipython3",
      "version": "3.8.5"
    },
    "orig_nbformat": 4,
    "colab": {
      "name": "Checkpoint_2.ipynb",
      "provenance": [],
      "collapsed_sections": [],
      "include_colab_link": true
    }
  },
  "cells": [
    {
      "cell_type": "markdown",
      "metadata": {
        "id": "view-in-github",
        "colab_type": "text"
      },
      "source": [
        "<a href=\"https://colab.research.google.com/github/Ghiles1010/checkpoints/blob/main/Checkpoint_2.ipynb\" target=\"_parent\"><img src=\"https://colab.research.google.com/assets/colab-badge.svg\" alt=\"Open In Colab\"/></a>"
      ]
    },
    {
      "cell_type": "markdown",
      "metadata": {
        "id": "AzJdvjlarSIS"
      },
      "source": [
        "# Question 1"
      ]
    },
    {
      "cell_type": "code",
      "metadata": {
        "colab": {
          "base_uri": "https://localhost:8080/"
        },
        "id": "q0j6QRIhrSIX",
        "outputId": "34cad4f8-3434-49d6-81f1-ddd1dedb7bf2"
      },
      "source": [
        "import numpy as np\n",
        "\n",
        "def question_1():\n",
        "    result = [num for num in range(2000, 3201) if num%7 == 0 and num %5 != 0]\n",
        "    print(result)\n",
        "\n",
        "question_1()"
      ],
      "execution_count": 63,
      "outputs": [
        {
          "output_type": "stream",
          "text": [
            "[2002, 2009, 2016, 2023, 2037, 2044, 2051, 2058, 2072, 2079, 2086, 2093, 2107, 2114, 2121, 2128, 2142, 2149, 2156, 2163, 2177, 2184, 2191, 2198, 2212, 2219, 2226, 2233, 2247, 2254, 2261, 2268, 2282, 2289, 2296, 2303, 2317, 2324, 2331, 2338, 2352, 2359, 2366, 2373, 2387, 2394, 2401, 2408, 2422, 2429, 2436, 2443, 2457, 2464, 2471, 2478, 2492, 2499, 2506, 2513, 2527, 2534, 2541, 2548, 2562, 2569, 2576, 2583, 2597, 2604, 2611, 2618, 2632, 2639, 2646, 2653, 2667, 2674, 2681, 2688, 2702, 2709, 2716, 2723, 2737, 2744, 2751, 2758, 2772, 2779, 2786, 2793, 2807, 2814, 2821, 2828, 2842, 2849, 2856, 2863, 2877, 2884, 2891, 2898, 2912, 2919, 2926, 2933, 2947, 2954, 2961, 2968, 2982, 2989, 2996, 3003, 3017, 3024, 3031, 3038, 3052, 3059, 3066, 3073, 3087, 3094, 3101, 3108, 3122, 3129, 3136, 3143, 3157, 3164, 3171, 3178, 3192, 3199]\n"
          ],
          "name": "stdout"
        }
      ]
    },
    {
      "cell_type": "markdown",
      "metadata": {
        "id": "f4q3qmpmrSIY"
      },
      "source": [
        "# Question 2"
      ]
    },
    {
      "cell_type": "code",
      "metadata": {
        "colab": {
          "base_uri": "https://localhost:8080/"
        },
        "id": "z0jHE9vFrSIZ",
        "outputId": "e34a42b2-21ea-439b-e843-e0f0140f0f4a"
      },
      "source": [
        "\n",
        "# Recursive Function\n",
        "def factorial_rec(num):\n",
        "\n",
        "    if num == 0:\n",
        "        return 1\n",
        "    return num * fact(num-1)\n",
        "\n",
        "# Iterative Function\n",
        "def factorial(num):\n",
        "    fact = 1\n",
        "    for i in range(1, num+1):\n",
        "        fact = fact * i\n",
        "    return fact\n",
        "\n",
        "def question_2(num = 5):\n",
        "  print(factorial(num))\n",
        " \n",
        "question_2(0)\n",
        "question_2()"
      ],
      "execution_count": 64,
      "outputs": [
        {
          "output_type": "stream",
          "text": [
            "1\n",
            "120\n"
          ],
          "name": "stdout"
        }
      ]
    },
    {
      "cell_type": "markdown",
      "metadata": {
        "id": "rgLP6JKHs_bG"
      },
      "source": [
        "# Question 3"
      ]
    },
    {
      "cell_type": "code",
      "metadata": {
        "colab": {
          "base_uri": "https://localhost:8080/"
        },
        "id": "_kd75qgUrSIa",
        "outputId": "78c85106-7769-41b0-e270-3ae39ae835e3"
      },
      "source": [
        "def question_3(num = 8):\n",
        "    result = {}\n",
        "    for i in range(1, num + 1):\n",
        "        result[i] = i*i\n",
        "\n",
        "    print(result)\n",
        "\n",
        "question_3()"
      ],
      "execution_count": 65,
      "outputs": [
        {
          "output_type": "stream",
          "text": [
            "{1: 1, 2: 4, 3: 9, 4: 16, 5: 25, 6: 36, 7: 49, 8: 64}\n"
          ],
          "name": "stdout"
        }
      ]
    },
    {
      "cell_type": "markdown",
      "metadata": {
        "id": "QOLOkzbJrSIa"
      },
      "source": [
        "# Question 4"
      ]
    },
    {
      "cell_type": "code",
      "metadata": {
        "colab": {
          "base_uri": "https://localhost:8080/"
        },
        "id": "AkcoAvAPrSIb",
        "outputId": "d40e5d20-9594-4f58-9550-42678abfe4c0"
      },
      "source": [
        "def question_4(string=\"kitten\", index=5):\n",
        "    \n",
        "    string = string[:index] + string[index+1:]\n",
        "    print(string)\n",
        "\n",
        "question_4()"
      ],
      "execution_count": 66,
      "outputs": [
        {
          "output_type": "stream",
          "text": [
            "kitte\n"
          ],
          "name": "stdout"
        }
      ]
    },
    {
      "cell_type": "markdown",
      "metadata": {
        "id": "Bh9ngCp6rSIc"
      },
      "source": [
        "# Question 5"
      ]
    },
    {
      "cell_type": "code",
      "metadata": {
        "colab": {
          "base_uri": "https://localhost:8080/"
        },
        "id": "iX38dzgxrSIc",
        "outputId": "17d7ca6c-9f75-4da1-8df0-a8371d19e2e8"
      },
      "source": [
        "import numpy as np\n",
        "\n",
        "# we have to do a recursive function\n",
        "\n",
        "def question_5(np_list = np.random.randint(1, 10, (2,2))):\n",
        "    converted_list = np_list.tolist()\n",
        "    print(\"The type of \", converted_list, \" is \", type(converted_list))\n",
        "\n",
        "question_5()"
      ],
      "execution_count": 67,
      "outputs": [
        {
          "output_type": "stream",
          "text": [
            "The type of  [[5, 1], [8, 1]]  is  <class 'list'>\n"
          ],
          "name": "stdout"
        }
      ]
    },
    {
      "cell_type": "markdown",
      "metadata": {
        "id": "pBttcWuPtlDw"
      },
      "source": [
        "# Question 6"
      ]
    },
    {
      "cell_type": "code",
      "metadata": {
        "colab": {
          "base_uri": "https://localhost:8080/"
        },
        "id": "h4U1xJXtrSId",
        "outputId": "39388a53-71e3-4546-f1ae-1dc741d5e5fb"
      },
      "source": [
        "import numpy as np\n",
        "\n",
        "def question_6(arr_1 = [0, 1, 2], arr_2 = [2, 1, 0]):\n",
        "\n",
        "  print(np.cov(arr_1, arr_2))\n",
        "\n",
        "question_6()\n",
        "\n"
      ],
      "execution_count": 68,
      "outputs": [
        {
          "output_type": "stream",
          "text": [
            "[[ 1. -1.]\n",
            " [-1.  1.]]\n"
          ],
          "name": "stdout"
        }
      ]
    },
    {
      "cell_type": "markdown",
      "metadata": {
        "id": "MiKLhoq1rSId"
      },
      "source": [
        "# Question 7"
      ]
    },
    {
      "cell_type": "code",
      "metadata": {
        "colab": {
          "base_uri": "https://localhost:8080/"
        },
        "id": "XIxkSogUrSIe",
        "outputId": "c2fc48fd-1901-47be-88c9-108312089362"
      },
      "source": [
        "import numpy as np\n",
        "\n",
        "# if input is CSV format\n",
        "def question_7(D = \"100,150,180\"):\n",
        "  \n",
        "  # define some functions \n",
        "  formula = lambda x : np.sqrt( (2 * 50 * x)/30 )\n",
        "  normalize = lambda x : int(round(x))\n",
        "  # pre process\n",
        "  input_list = map(lambda x : int(x), D.split(\",\"))\n",
        "  # process\n",
        "  output_list = map(lambda x : str(normalize(formula(x))), input_list)\n",
        "  # formatting\n",
        "  result = \",\".join(output_list)\n",
        "\n",
        "  print(result)\n",
        "\n",
        "\n",
        "\n",
        "# If input is numpy array\n",
        "def question_7_v2(D = np.array([100,150,180])):\n",
        "\n",
        "  res = np.round(np.sqrt((2 * 50 * D)/30)).astype(int)\n",
        "  res = map(lambda x : str(x), res)\n",
        "\n",
        "  print(\",\".join(res))\n",
        "\n",
        "\n",
        "\n",
        "question_7()\n",
        "question_7_v2()"
      ],
      "execution_count": 69,
      "outputs": [
        {
          "output_type": "stream",
          "text": [
            "18,22,24\n",
            "18,22,24\n"
          ],
          "name": "stdout"
        }
      ]
    }
  ]
}